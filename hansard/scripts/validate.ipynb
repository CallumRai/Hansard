{
  "nbformat": 4,
  "nbformat_minor": 0,
  "metadata": {
    "colab": {
      "name": "Untitled0.ipynb",
      "provenance": []
    },
    "kernelspec": {
      "name": "python3",
      "display_name": "Python 3"
    },
    "accelerator": "GPU"
  },
  "cells": [
    {
      "cell_type": "markdown",
      "metadata": {
        "id": "P-vToE3AkTXL"
      },
      "source": [
        "# Validate\r\n",
        "\r\n",
        "This is a notebook for finding the optimum parameters to train a GPT2 PyTorch language model on Hansard text. This should be ran with a GPU in Google Colab.\r\n",
        "\r\n",
        "To ensure you are running with a GPU go to Runtime -> Change Runtime Type, and ensure GPU is selected as Hardware accelerator\r\n",
        "\r\n",
        "Clones the github repo and downloads required module (HuggingFace transformers)"
      ]
    },
    {
      "cell_type": "code",
      "metadata": {
        "id": "knC8oPEtwYfI"
      },
      "source": [
        "!git clone https://github.com/CallumRai/Hansard/\r\n",
        "!pip install transformers"
      ],
      "execution_count": null,
      "outputs": []
    },
    {
      "cell_type": "markdown",
      "metadata": {
        "id": "SUJWxrWQkucJ"
      },
      "source": [
        "Imports required classes and changes working directory"
      ]
    },
    {
      "cell_type": "code",
      "metadata": {
        "id": "LGTr1pI1w7eS"
      },
      "source": [
        "import os\r\n",
        "os.chdir(\"Hansard\")\r\n",
        "\r\n",
        "from hansard import Hansard, Corpus, DataLoader, Trainer\r\n",
        "import torch"
      ],
      "execution_count": null,
      "outputs": []
    },
    {
      "cell_type": "markdown",
      "metadata": {
        "id": "IcVJOZS0k7pU"
      },
      "source": [
        "Downloads hansard between two dates as ```.html```, and converts into ```.json```\r\n",
        "\r\n",
        "The start and end dates can be changed, in YYYY-MM-DD form"
      ]
    },
    {
      "cell_type": "code",
      "metadata": {
        "id": "Zkx9uOkSzYs5"
      },
      "source": [
        "print(\"Downloading and extracting hansard ...\")\r\n",
        "\r\n",
        "s_date = \"2019-01-01\"\r\n",
        "e_date = \"2020-06-01\"\r\n",
        "\r\n",
        "hansard = Hansard(s_date, e_date)\r\n",
        "hansard.download()\r\n",
        "hansard.extract()"
      ],
      "execution_count": null,
      "outputs": []
    },
    {
      "cell_type": "markdown",
      "metadata": {
        "id": "6H6g0vFtlF7u"
      },
      "source": [
        "Creates a corpus of utterances from hansard\r\n",
        "\r\n",
        "The date range must have been previously downloaded, however, can be different to the previous."
      ]
    },
    {
      "cell_type": "code",
      "metadata": {
        "id": "3adbB9xYPrMQ"
      },
      "source": [
        "print(\"Creating corpus ...\")\r\n",
        "\r\n",
        "s_date = \"2019-01-01\"\r\n",
        "e_date = \"2020-06-01\"\r\n",
        "\r\n",
        "corpus = Corpus(s_date, e_date)\r\n",
        "corpus.full()"
      ],
      "execution_count": null,
      "outputs": []
    },
    {
      "cell_type": "markdown",
      "metadata": {
        "id": "CC2yh30klUoE"
      },
      "source": [
        "Creates dataloaders for training and validating model\r\n",
        "\r\n",
        "```train_prop``` can be modified to change the proportion of data used to train the model upon"
      ]
    },
    {
      "cell_type": "code",
      "metadata": {
        "id": "VyrG6iqKPtLO"
      },
      "source": [
        "print(\"Creating dataloaders ...\")\r\n",
        "\r\n",
        "dataloader_path = \"hansard/data/dataloaders/\"\r\n",
        "train_path = dataloader_path + 'train_loader_debug.pth'\r\n",
        "val_path = dataloader_path + 'val_loader_debug.pth'\r\n",
        "\r\n",
        "train_prop = 0.75\r\n",
        "\r\n",
        "# If train or val loaders files do not exist make them\r\n",
        "if not(os.path.isfile(train_path) or os.path.isfile(val_path)):\r\n",
        "\r\n",
        "    loader_class = DataLoader(s_date, e_date)\r\n",
        "    train_loader, val_loader = loader_class.debug(train_prop, 1)\r\n",
        "\r\n",
        "    torch.save(train_loader, train_path)\r\n",
        "    torch.save(val_loader, val_path)\r\n",
        "\r\n",
        "train_loader = torch.load(train_path)\r\n",
        "val_loader = torch.load(val_path)"
      ],
      "execution_count": null,
      "outputs": []
    },
    {
      "cell_type": "markdown",
      "metadata": {
        "id": "wjUj0UAVmUoA"
      },
      "source": [
        "Trains the model and prints training and validation loss\r\n",
        "\r\n",
        "```epochs```, ```lr``` (learning rate), ```warmup_steps``` can be changed.\r\n",
        "\r\n",
        "Note: The training step currently takes upwards of 2 hours to run"
      ]
    },
    {
      "cell_type": "code",
      "metadata": {
        "id": "9h6zvZ2vTC1z"
      },
      "source": [
        "trainer = Trainer(train_loader, val_loader)\r\n",
        "\r\n",
        "epochs = 5\r\n",
        "lr = 2e-5\r\n",
        "warmup_steps = 100\r\n",
        "\r\n",
        "print(\"Training ...\\n\")\r\n",
        "trainer.debug(epochs, lr, warmup_steps)"
      ],
      "execution_count": null,
      "outputs": []
    }
  ]
}