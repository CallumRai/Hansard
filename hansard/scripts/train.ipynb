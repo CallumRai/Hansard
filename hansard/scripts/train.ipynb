{
  "nbformat": 4,
  "nbformat_minor": 0,
  "metadata": {
    "accelerator": "GPU",
    "colab": {
      "name": "Untitled0.ipynb",
      "provenance": []
    },
    "kernelspec": {
      "display_name": "Python 3",
      "name": "python3"
    }
  },
  "cells": [
    {
      "cell_type": "markdown",
      "metadata": {
        "id": "bSSbe-XinaB9"
      },
      "source": [
        "# Train\r\n",
        "\r\n",
        "This is a notebook for finding the training and saving a GPT2 PyTorch language model on Hansard text. This should be ran with a GPU in Google Colab.\r\n",
        "\r\n",
        "Clones the github repo and downloads required module (HuggingFace transformers)"
      ]
    },
    {
      "cell_type": "code",
      "metadata": {
        "id": "knC8oPEtwYfI"
      },
      "source": [
        "!git clone https://github.com/CallumRai/Hansard/\r\n",
        "!pip install transformers"
      ],
      "execution_count": null,
      "outputs": []
    },
    {
      "cell_type": "markdown",
      "metadata": {
        "id": "B9SHpDU1ng9u"
      },
      "source": [
        "Imports required classes and changes working directory"
      ]
    },
    {
      "cell_type": "code",
      "metadata": {
        "id": "LGTr1pI1w7eS"
      },
      "source": [
        "import os\r\n",
        "os.chdir(\"Hansard\")\r\n",
        "\r\n",
        "from hansard import Hansard, Corpus, DataLoader, Trainer\r\n",
        "import torch"
      ],
      "execution_count": null,
      "outputs": []
    },
    {
      "cell_type": "markdown",
      "metadata": {
        "id": "kY0ff7ARnieP"
      },
      "source": [
        "Downloads hansard between two dates as ```.html```, and converts into ```.json```\r\n",
        "\r\n",
        "The start and end dates can be changed, in YYYY-MM-DD form"
      ]
    },
    {
      "cell_type": "code",
      "metadata": {
        "id": "Zkx9uOkSzYs5"
      },
      "source": [
        "print(\"Downloading and extracting hansard ...\")\r\n",
        "\r\n",
        "s_date = \"2019-01-01\"\r\n",
        "e_date = \"2020-06-01\"\r\n",
        "\r\n",
        "hansard = Hansard(s_date, e_date)\r\n",
        "hansard.download()\r\n",
        "hansard.extract()"
      ],
      "execution_count": null,
      "outputs": []
    },
    {
      "cell_type": "markdown",
      "metadata": {
        "id": "Hexghh77nmoV"
      },
      "source": [
        "Creates a corpus of utterances from hansard\r\n",
        "\r\n",
        "The date range must have been previously downloaded, however, can be different to the previous."
      ]
    },
    {
      "cell_type": "code",
      "metadata": {
        "id": "3adbB9xYPrMQ"
      },
      "source": [
        "print(\"Creating corpus ...\")\r\n",
        "\r\n",
        "s_date = \"2019-01-01\"\r\n",
        "e_date = \"2020-06-01\"\r\n",
        "\r\n",
        "corpus = Corpus(s_date, e_date)\r\n",
        "corpus.full()"
      ],
      "execution_count": null,
      "outputs": []
    },
    {
      "cell_type": "markdown",
      "metadata": {
        "id": "rH2LYc2nnpwh"
      },
      "source": [
        "Creates dataloaders for training and  model\r\n"
      ]
    },
    {
      "cell_type": "code",
      "metadata": {
        "id": "VyrG6iqKPtLO"
      },
      "source": [
        "print(\"Creating dataloaders ...\")\r\n",
        "\r\n",
        "dataloader_path = \"hansard/data/dataloaders/\"\r\n",
        "train_path = dataloader_path + 'train_loader_debug.pth'\r\n",
        "\r\n",
        "# If train or val loaders files do not exist make them\r\n",
        "if not os.path.isfile(train_path):\r\n",
        "\r\n",
        "    loader_class = DataLoader(s_date, e_date)\r\n",
        "    train_loader = loader_class.train(1)\r\n",
        "\r\n",
        "    torch.save(train_loader, train_path)\r\n",
        "    \r\n",
        "train_loader = torch.load(train_path)"
      ],
      "execution_count": null,
      "outputs": []
    },
    {
      "cell_type": "markdown",
      "metadata": {
        "id": "RaZl6geVn58F"
      },
      "source": [
        "Trains the model\r\n",
        "\r\n",
        "```epochs```, ```lr``` (learning rate), ```warmup_steps``` can be changed.\r\n",
        "\r\n",
        "Note: The training step currently takes upwards of 2 hours to run"
      ]
    },
    {
      "cell_type": "code",
      "metadata": {
        "colab": {
          "background_save": true
        },
        "id": "9h6zvZ2vTC1z"
      },
      "source": [
        "trainer = Trainer(train_loader)\r\n",
        "\r\n",
        "epochs = 2\r\n",
        "lr = 2e-5\r\n",
        "warmup_steps = 100\r\n",
        "\r\n",
        "print(\"Training ...\\n\")\r\n",
        "trainer.train(epochs, lr, warmup_steps)"
      ],
      "execution_count": null,
      "outputs": []
    },
    {
      "cell_type": "markdown",
      "metadata": {
        "id": "FpG1y40-n-9Q"
      },
      "source": [
        "The model should now be saved in ```Hansard/hansard/date/model``` as ```pretrained.pth```. \r\n",
        "\r\n",
        "This can either be downloaded as a PyTorch model, or if you intend to upload it as a Huggingface model it would be easiest to follow the instructions found on the github readme"
      ]
    }
  ]
}